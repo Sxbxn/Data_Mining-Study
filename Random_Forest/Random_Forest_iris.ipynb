{
  "nbformat": 4,
  "nbformat_minor": 0,
  "metadata": {
    "colab": {
      "name": "Untitled11.ipynb",
      "provenance": [],
      "authorship_tag": "ABX9TyPUb5hVfi+gVYdqMfQ8jFQq",
      "include_colab_link": true
    },
    "kernelspec": {
      "name": "python3",
      "display_name": "Python 3"
    },
    "language_info": {
      "name": "python"
    }
  },
  "cells": [
    {
      "cell_type": "markdown",
      "metadata": {
        "id": "view-in-github",
        "colab_type": "text"
      },
      "source": [
        "<a href=\"https://colab.research.google.com/github/Sxbxn/Data_Mining-Study/blob/main/Random_Forest/_iris.ipynb\" target=\"_parent\"><img src=\"https://colab.research.google.com/assets/colab-badge.svg\" alt=\"Open In Colab\"/></a>"
      ]
    },
    {
      "cell_type": "code",
      "metadata": {
        "colab": {
          "base_uri": "https://localhost:8080/"
        },
        "id": "3GmPGWt-QPDX",
        "outputId": "3aae3c38-30a8-4891-b748-7ba99870f461"
      },
      "source": [
        "import pandas as pd\n",
        " \n",
        "from sklearn import datasets\n",
        " \n",
        "if __name__ == '__main__':\n",
        "    iris = datasets.load_iris()\n",
        "    print('아이리스 종류 :', iris.target_names)\n",
        "    print('target : [0:setosa, 1:versicolor, 2:virginica]')\n",
        "    print('데어터 수 :', len(iris.data))\n",
        "    print('데이터 열 이름 :', iris.feature_names)\n",
        " \n",
        "    # iris data Dataframe으로\n",
        "    data = pd.DataFrame(\n",
        "        {\n",
        "            'sepal length': iris.data[:, 0],\n",
        "            'sepal width': iris.data[:, 1],\n",
        "            'petal length': iris.data[:, 2],\n",
        "            'petal width': iris.data[:, 3],\n",
        "            'species': iris.target\n",
        "        }\n",
        "    )\n",
        "    print(data.head())"
      ],
      "execution_count": null,
      "outputs": [
        {
          "output_type": "stream",
          "text": [
            "아이리스 종류 : ['setosa' 'versicolor' 'virginica']\n",
            "target : [0:setosa, 1:versicolor, 2:virginica]\n",
            "데어터 수 : 150\n",
            "데이터 열 이름 : ['sepal length (cm)', 'sepal width (cm)', 'petal length (cm)', 'petal width (cm)']\n",
            "   sepal length  sepal width  petal length  petal width  species\n",
            "0           5.1          3.5           1.4          0.2        0\n",
            "1           4.9          3.0           1.4          0.2        0\n",
            "2           4.7          3.2           1.3          0.2        0\n",
            "3           4.6          3.1           1.5          0.2        0\n",
            "4           5.0          3.6           1.4          0.2        0\n"
          ],
          "name": "stdout"
        }
      ]
    },
    {
      "cell_type": "code",
      "metadata": {
        "colab": {
          "base_uri": "https://localhost:8080/"
        },
        "id": "RxPDrlO6QeJr",
        "outputId": "e54feb97-b457-44fa-98af-5e58dc06d4d9"
      },
      "source": [
        "from sklearn.model_selection import train_test_split\n",
        " \n",
        "x = data[['sepal length', 'sepal width', 'petal length', 'petal width']]\n",
        "y = data['species']\n",
        " \n",
        "# 테스트 데이터 30%\n",
        "x_train, x_test, y_train, y_test = train_test_split(x, y, test_size=0.3)\n",
        "print(len(x_train))\n",
        "print(len(x_test))\n",
        "print(len(y_train))\n",
        "print(len(y_test))"
      ],
      "execution_count": null,
      "outputs": [
        {
          "output_type": "stream",
          "text": [
            "105\n",
            "45\n",
            "105\n",
            "45\n"
          ],
          "name": "stdout"
        }
      ]
    },
    {
      "cell_type": "code",
      "metadata": {
        "colab": {
          "base_uri": "https://localhost:8080/"
        },
        "id": "6-VZeCxZQp62",
        "outputId": "965f3884-eaba-4e21-b5bf-25dca9e3a508"
      },
      "source": [
        "from sklearn.ensemble import RandomForestClassifier\n",
        "from sklearn import metrics    \n",
        " \n",
        "# 학습 진행\n",
        "forest = RandomForestClassifier(n_estimators=100)\n",
        "forest.fit(x_train, y_train)\n",
        " \n",
        "# 예측\n",
        "y_pred = forest.predict(x_test)\n",
        "print(y_pred)\n",
        "print(list(y_test))\n",
        " \n",
        "# 정확도 확인\n",
        "print('정확도 :', metrics.accuracy_score(y_test, y_pred))"
      ],
      "execution_count": null,
      "outputs": [
        {
          "output_type": "stream",
          "text": [
            "[1 0 2 1 1 1 0 0 1 1 1 0 1 1 1 2 0 1 2 1 1 0 0 1 0 0 1 2 0 2 2 0 0 0 0 0 1\n",
            " 2 2 1 0 0 1 1 1]\n",
            "[1, 0, 1, 1, 2, 1, 0, 0, 1, 1, 1, 0, 1, 1, 1, 2, 0, 1, 2, 1, 1, 0, 0, 1, 0, 0, 1, 2, 0, 2, 2, 0, 0, 0, 0, 0, 2, 2, 2, 1, 0, 0, 1, 1, 1]\n",
            "정확도 : 0.9333333333333333\n"
          ],
          "name": "stdout"
        }
      ]
    }
  ]
}
