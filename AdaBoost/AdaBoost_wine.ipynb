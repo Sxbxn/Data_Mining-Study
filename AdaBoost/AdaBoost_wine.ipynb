{
  "nbformat": 4,
  "nbformat_minor": 0,
  "metadata": {
    "colab": {
      "name": "Untitled14.ipynb",
      "provenance": [],
      "collapsed_sections": [],
      "authorship_tag": "ABX9TyNfFz8W0zcLnVI/DaftUvhY",
      "include_colab_link": true
    },
    "kernelspec": {
      "name": "python3",
      "display_name": "Python 3"
    },
    "language_info": {
      "name": "python"
    }
  },
  "cells": [
    {
      "cell_type": "markdown",
      "metadata": {
        "id": "view-in-github",
        "colab_type": "text"
      },
      "source": [
        "<a href=\"https://colab.research.google.com/github/Sxbxn/Data_Mining-Study/blob/main/AdaBoost/AdaBoost_wine.ipynb\" target=\"_parent\"><img src=\"https://colab.research.google.com/assets/colab-badge.svg\" alt=\"Open In Colab\"/></a>"
      ]
    },
    {
      "cell_type": "code",
      "metadata": {
        "colab": {
          "base_uri": "https://localhost:8080/"
        },
        "id": "cGJp0xSD6Eso",
        "outputId": "e799b40b-6b6b-40e5-c069-0865b46a677b"
      },
      "source": [
        "from sklearn.datasets import load_wine\n",
        "from sklearn.ensemble import AdaBoostClassifier #AdaBoost \n",
        "from sklearn.model_selection import train_test_split\n",
        "import matplotlib.pyplot as plt\n",
        "import numpy as np\n",
        "\n",
        "wine = load_wine()\n",
        "\n",
        "# 훈련/테스트 세트로 나누기\n",
        "X_train, X_test, y_train, y_test = train_test_split(wine.data, wine.target, test_size=0.3, random_state=0)\n",
        "# X_train, X_test, y_train, y_test = train_test_split(wine.data, wine.target, test_size=0.25, random_state=0)\n",
        "\n",
        "AdaBoost = AdaBoostClassifier(n_estimators=100,random_state=0, learning_rate=0.4)\n",
        "# AdaBoost = AdaBoostClassifier(n_estimators=5,random_state=0)\n",
        "\n",
        "AdaBoost.fit(X_train,y_train)\n",
        "\n",
        "print(\"훈련 세트 정확도 : {:.3f}\".format(AdaBoost.score(X_train,y_train)))\n",
        "print(\"테스트 세트 정확도 : {:.3f}\".format(AdaBoost.score(X_test,y_test)))"
      ],
      "execution_count": 23,
      "outputs": [
        {
          "output_type": "stream",
          "text": [
            "훈련 세트 정확도 : 1.000\n",
            "테스트 세트 정확도 : 0.944\n"
          ],
          "name": "stdout"
        }
      ]
    },
    {
      "cell_type": "code",
      "metadata": {
        "id": "Vv21FeeWAuDx"
      },
      "source": [
        "# test_size 0.3, n_estimators=100, learing_rate=0.5 => 0.992, 0.926\n",
        "# test_size 0.3, n_estimators=100, learing_rate=0.7 => 0.984, 0.944\n",
        "# test_size 0.3, n_estimators=100, learing_rate=0.4 => 1.000, 0.944\n",
        "\n",
        "# test_size 0.3, n_estimators=100 => 0.976, 0.889\n",
        "# test_size 0.3, n_estimators=5 => 0.927, 0.815\n",
        "\n",
        "# test_size 0.3, n_estimators=100 => 0.947, 0.867\n",
        "# test_size 0.25, n_estimators=5 => 0.925, 0.822"
      ],
      "execution_count": null,
      "outputs": []
    }
  ]
}