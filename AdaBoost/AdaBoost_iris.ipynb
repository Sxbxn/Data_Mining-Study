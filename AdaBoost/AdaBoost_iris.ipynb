{
  "nbformat": 4,
  "nbformat_minor": 0,
  "metadata": {
    "colab": {
      "name": "Untitled13.ipynb",
      "provenance": [],
      "authorship_tag": "ABX9TyOPgRGqlacmHbxJV2nQD240",
      "include_colab_link": true
    },
    "kernelspec": {
      "name": "python3",
      "display_name": "Python 3"
    },
    "language_info": {
      "name": "python"
    }
  },
  "cells": [
    {
      "cell_type": "markdown",
      "metadata": {
        "id": "view-in-github",
        "colab_type": "text"
      },
      "source": [
        "<a href=\"https://colab.research.google.com/github/Sxbxn/Data_Mining-Study/blob/main/AdaBoost/AdaBoost_iris.ipynb\" target=\"_parent\"><img src=\"https://colab.research.google.com/assets/colab-badge.svg\" alt=\"Open In Colab\"/></a>"
      ]
    },
    {
      "cell_type": "code",
      "metadata": {
        "colab": {
          "base_uri": "https://localhost:8080/"
        },
        "id": "d5FZvhbH41Bm",
        "outputId": "8a5d5b27-6944-4cc1-fd73-a617f62f9060"
      },
      "source": [
        "import pandas as pd\n",
        "from sklearn.ensemble import AdaBoostClassifier #AdaBoost \n",
        "from sklearn import datasets\n",
        " \n",
        "if __name__ == '__main__':\n",
        "    iris = datasets.load_iris()\n",
        "    print('아이리스 종류 :', iris.target_names)\n",
        "    print('target : [0:setosa, 1:versicolor, 2:virginica]')\n",
        "    print('데어터 수 :', len(iris.data))\n",
        "    print('데이터 열 이름 :', iris.feature_names)\n",
        " \n",
        "    # iris data Dataframe으로\n",
        "    data = pd.DataFrame(\n",
        "        {\n",
        "            'sepal length': iris.data[:, 0],\n",
        "            'sepal width': iris.data[:, 1],\n",
        "            'petal length': iris.data[:, 2],\n",
        "            'petal width': iris.data[:, 3],\n",
        "            'species': iris.target\n",
        "        }\n",
        "    )\n",
        "    print(data.head())"
      ],
      "execution_count": 2,
      "outputs": [
        {
          "output_type": "stream",
          "text": [
            "아이리스 종류 : ['setosa' 'versicolor' 'virginica']\n",
            "target : [0:setosa, 1:versicolor, 2:virginica]\n",
            "데어터 수 : 150\n",
            "데이터 열 이름 : ['sepal length (cm)', 'sepal width (cm)', 'petal length (cm)', 'petal width (cm)']\n",
            "   sepal length  sepal width  petal length  petal width  species\n",
            "0           5.1          3.5           1.4          0.2        0\n",
            "1           4.9          3.0           1.4          0.2        0\n",
            "2           4.7          3.2           1.3          0.2        0\n",
            "3           4.6          3.1           1.5          0.2        0\n",
            "4           5.0          3.6           1.4          0.2        0\n"
          ],
          "name": "stdout"
        }
      ]
    },
    {
      "cell_type": "code",
      "metadata": {
        "colab": {
          "base_uri": "https://localhost:8080/"
        },
        "id": "xK9mNxVv43jH",
        "outputId": "6b1a5098-bab2-4462-a566-dd6411698877"
      },
      "source": [
        "from sklearn.model_selection import train_test_split\n",
        " \n",
        "x = data[['sepal length', 'sepal width', 'petal length', 'petal width']]\n",
        "y = data['species']\n",
        " \n",
        "# 테스트 데이터 30%\n",
        "x_train, x_test, y_train, y_test = train_test_split(x, y, test_size=0.3)\n",
        "print(len(x_train))\n",
        "print(len(x_test))\n",
        "print(len(y_train))\n",
        "print(len(y_test))"
      ],
      "execution_count": 3,
      "outputs": [
        {
          "output_type": "stream",
          "text": [
            "105\n",
            "45\n",
            "105\n",
            "45\n"
          ],
          "name": "stdout"
        }
      ]
    },
    {
      "cell_type": "code",
      "metadata": {
        "colab": {
          "base_uri": "https://localhost:8080/"
        },
        "id": "hwZQC56-5Py2",
        "outputId": "ab21d8f3-06fa-4a09-e5f0-a85c84b3e39d"
      },
      "source": [
        "from sklearn.ensemble import AdaBoostClassifier #AdaBoost \n",
        "from sklearn import metrics    \n",
        " \n",
        "# 학습 진행\n",
        "AdaBoost = AdaBoostClassifier(n_estimators=100) # n_estimators = 모델의 개수\n",
        "AdaBoost.fit(x_train, y_train)\n",
        " \n",
        "# 예측\n",
        "y_pred = AdaBoost.predict(x_test)\n",
        "print(y_pred)\n",
        "print(list(y_test))\n",
        " \n",
        "# 정확도 확인\n",
        "print('정확도 :', metrics.accuracy_score(y_test, y_pred))"
      ],
      "execution_count": 4,
      "outputs": [
        {
          "output_type": "stream",
          "text": [
            "[2 2 2 2 2 0 1 1 0 2 1 1 0 1 0 0 1 2 0 0 2 1 2 1 1 2 1 2 0 1 1 2 0 0 2 0 2\n",
            " 0 0 1 0 1 2 0 0]\n",
            "[2, 2, 2, 2, 2, 0, 1, 2, 0, 2, 1, 1, 0, 1, 0, 0, 1, 2, 0, 0, 2, 2, 2, 1, 1, 2, 1, 1, 0, 1, 1, 2, 0, 0, 2, 0, 2, 0, 0, 1, 0, 1, 2, 0, 0]\n",
            "정확도 : 0.9333333333333333\n"
          ],
          "name": "stdout"
        }
      ]
    }
  ]
}