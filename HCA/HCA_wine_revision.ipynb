{
  "nbformat": 4,
  "nbformat_minor": 0,
  "metadata": {
    "colab": {
      "name": "Untitled4.ipynb",
      "provenance": [],
      "include_colab_link": true
    },
    "kernelspec": {
      "name": "python3",
      "display_name": "Python 3"
    },
    "language_info": {
      "name": "python"
    }
  },
  "cells": [
    {
      "cell_type": "markdown",
      "metadata": {
        "id": "view-in-github",
        "colab_type": "text"
      },
      "source": [
        "<a href=\"https://colab.research.google.com/github/Sxbxn/Data_Mining-Study/blob/main/HCA/HCA_wine_revision.ipynb\" target=\"_parent\"><img src=\"https://colab.research.google.com/assets/colab-badge.svg\" alt=\"Open In Colab\"/></a>"
      ]
    },
    {
      "cell_type": "code",
      "metadata": {
        "colab": {
          "base_uri": "https://localhost:8080/"
        },
        "id": "eafCvhSx5-nB",
        "outputId": "7fb7e90a-5c16-483d-d982-75ab87b75cc5"
      },
      "source": [
        "from sklearn.datasets import load_wine\n",
        "from sklearn.ensemble import RandomForestClassifier\n",
        "# from sklearn.model_selection import train_test_split\n",
        "from sklearn.metrics.cluster import normalized_mutual_info_score\n",
        "import matplotlib.pyplot as plt\n",
        "import numpy as np\n",
        "from sklearn.cluster import AgglomerativeClustering\n",
        "wine = load_wine()\n",
        "\n",
        "# X_train, X_test, y_train, y_test = train_test_split(wine.data, wine.target)\n",
        "model = AgglomerativeClustering(n_clusters = 11, affinity='euclidean', linkage='average')\n",
        "model.fit(wine.data, wine.target)\n",
        "y_predict = model.fit_predict(wine.data)\n",
        "\n",
        "from sklearn import metrics\n",
        "\n",
        "print(\"Accuracy:\", normalized_mutual_info_score(wine.target, y_predict))"
      ],
      "execution_count": 5,
      "outputs": [
        {
          "output_type": "stream",
          "text": [
            "Accuracy: 0.3472093551243058\n"
          ],
          "name": "stdout"
        }
      ]
    }
  ]
}