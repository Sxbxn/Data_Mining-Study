{
  "nbformat": 4,
  "nbformat_minor": 0,
  "metadata": {
    "colab": {
      "name": "Untitled4.ipynb",
      "provenance": [],
      "include_colab_link": true
    },
    "kernelspec": {
      "name": "python3",
      "display_name": "Python 3"
    },
    "language_info": {
      "name": "python"
    }
  },
  "cells": [
    {
      "cell_type": "markdown",
      "metadata": {
        "id": "view-in-github",
        "colab_type": "text"
      },
      "source": [
        "<a href=\"https://colab.research.google.com/github/Sxbxn/Data_Mining-Study/blob/main/HCA/HCA_iris_revision.ipynb\" target=\"_parent\"><img src=\"https://colab.research.google.com/assets/colab-badge.svg\" alt=\"Open In Colab\"/></a>"
      ]
    },
    {
      "cell_type": "code",
      "metadata": {
        "colab": {
          "base_uri": "https://localhost:8080/"
        },
        "id": "eafCvhSx5-nB",
        "outputId": "42d169d8-9b52-4ee5-f614-8a5510c33f30"
      },
      "source": [
        "from sklearn.datasets import load_iris\n",
        "from sklearn.metrics.cluster import normalized_mutual_info_score\n",
        "# from sklearn.model_selection import train_test_split\n",
        "import matplotlib.pyplot as plt\n",
        "import numpy as np\n",
        "from sklearn.cluster import AgglomerativeClustering\n",
        "iris = load_iris()\n",
        "\n",
        "# X_train, X_test, y_train, y_test = train_test_split(iris.data, iris.target)\n",
        "model = AgglomerativeClustering(n_clusters = 3, affinity='euclidean', linkage='average')\n",
        "model.fit(iris.data, iris.target)\n",
        "y_predict = model.fit_predict(iris.data)\n",
        "\n",
        "from sklearn import metrics\n",
        "\n",
        "print(\"Accuracy:\", normalized_mutual_info_score(iris.target, y_predict))"
      ],
      "execution_count": 2,
      "outputs": [
        {
          "output_type": "stream",
          "text": [
            "Accuracy: 0.8056936912153358\n"
          ],
          "name": "stdout"
        }
      ]
    }
  ]
}