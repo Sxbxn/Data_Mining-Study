{
  "nbformat": 4,
  "nbformat_minor": 0,
  "metadata": {
    "colab": {
      "name": "Untitled4.ipynb",
      "provenance": [],
      "include_colab_link": true
    },
    "kernelspec": {
      "name": "python3",
      "display_name": "Python 3"
    },
    "language_info": {
      "name": "python"
    }
  },
  "cells": [
    {
      "cell_type": "markdown",
      "metadata": {
        "id": "view-in-github",
        "colab_type": "text"
      },
      "source": [
        "<a href=\"https://colab.research.google.com/github/Sxbxn/Data_Mining-Study/blob/main/HCA/HCA_cancer_revision.ipynb\" target=\"_parent\"><img src=\"https://colab.research.google.com/assets/colab-badge.svg\" alt=\"Open In Colab\"/></a>"
      ]
    },
    {
      "cell_type": "code",
      "metadata": {
        "colab": {
          "base_uri": "https://localhost:8080/"
        },
        "id": "eafCvhSx5-nB",
        "outputId": "0bd9362e-b2a4-48fd-8dba-ee5fee1417ac"
      },
      "source": [
        "from sklearn.datasets import load_breast_cancer\n",
        "from sklearn.metrics.cluster import normalized_mutual_info_score\n",
        "from sklearn.model_selection import train_test_split\n",
        "import matplotlib.pyplot as plt\n",
        "import numpy as np\n",
        "from sklearn.cluster import AgglomerativeClustering\n",
        "cancer = load_breast_cancer()\n",
        "\n",
        "# X_train, X_test, y_train, y_test = train_test_split(cancer.data, cancer.target)\n",
        "model = AgglomerativeClustering(n_clusters = 2, affinity='euclidean', linkage='average')\n",
        "model.fit(cancer.data, cancer.target)\n",
        "y_predict = model.fit_predict(cancer.data)\n",
        "\n",
        "from sklearn import metrics\n",
        "\n",
        "print(\"Accuracy:\", normalized_mutual_info_score(cancer.target, y_predict))"
      ],
      "execution_count": 4,
      "outputs": [
        {
          "output_type": "stream",
          "text": [
            "Accuracy: 0.08809665670006503\n"
          ],
          "name": "stdout"
        }
      ]
    }
  ]
}